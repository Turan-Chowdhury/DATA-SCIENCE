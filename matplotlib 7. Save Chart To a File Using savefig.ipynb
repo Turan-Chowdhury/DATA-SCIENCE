{
 "cells": [
  {
   "cell_type": "code",
   "execution_count": null,
   "id": "7cd703b5",
   "metadata": {},
   "outputs": [],
   "source": [
    "import matplotlib.pyplot as plt\n",
    "%matplotlib inline"
   ]
  },
  {
   "cell_type": "code",
   "execution_count": null,
   "id": "bf6231cb",
   "metadata": {},
   "outputs": [],
   "source": [
    "exp_vals = [1400,600,300,410,250]\n",
    "exp_labels = [\"Home Rent\",\"Food\",\"Phone/Internet Bill\",\"Car \",\"Other Utilities\"]"
   ]
  },
  {
   "cell_type": "code",
   "execution_count": null,
   "id": "3797c099",
   "metadata": {},
   "outputs": [],
   "source": [
    "plt.pie(exp_vals,labels=exp_labels,radius=2, autopct='%0.1f%%', explode=[0,0.1,0.1,0,0])\n",
    "\n",
    "plt.savefig(\"piechart.jpg\", bbox_inches=\"tight\", pad_inches=1, transparent=True)"
   ]
  },
  {
   "cell_type": "code",
   "execution_count": null,
   "id": "3cb84800",
   "metadata": {},
   "outputs": [],
   "source": [
    "plt.pie(exp_vals,labels=exp_labels,radius=2, autopct='%0.1f%%', explode=[0,0.1,0.1,0,0])\n",
    "\n",
    "plt.savefig(\"piechart.pdf\", bbox_inches=\"tight\", pad_inches=2, transparent=True)"
   ]
  }
 ],
 "metadata": {
  "kernelspec": {
   "display_name": "Python 3",
   "language": "python",
   "name": "python3"
  },
  "language_info": {
   "codemirror_mode": {
    "name": "ipython",
    "version": 3
   },
   "file_extension": ".py",
   "mimetype": "text/x-python",
   "name": "python",
   "nbconvert_exporter": "python",
   "pygments_lexer": "ipython3",
   "version": "3.8.8"
  }
 },
 "nbformat": 4,
 "nbformat_minor": 5
}
