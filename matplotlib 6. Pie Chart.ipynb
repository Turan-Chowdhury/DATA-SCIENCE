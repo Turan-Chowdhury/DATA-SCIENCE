{
 "cells": [
  {
   "cell_type": "code",
   "execution_count": null,
   "id": "7cd703b5",
   "metadata": {},
   "outputs": [],
   "source": [
    "import matplotlib.pyplot as plt\n",
    "%matplotlib inline"
   ]
  },
  {
   "cell_type": "code",
   "execution_count": null,
   "id": "740bb8db",
   "metadata": {},
   "outputs": [],
   "source": [
    "exp_vals = [1400,600,300,410,250]\n",
    "exp_labels = [\"Home Rent\",\"Food\",\"Phone/Internet Bill\",\"Car \",\"Other Utilities\"]"
   ]
  },
  {
   "cell_type": "code",
   "execution_count": null,
   "id": "aa5c7b28",
   "metadata": {},
   "outputs": [],
   "source": [
    "plt.pie(exp_vals, labels=exp_labels)"
   ]
  },
  {
   "cell_type": "code",
   "execution_count": null,
   "id": "79a3a7c5",
   "metadata": {},
   "outputs": [],
   "source": [
    "plt.pie(exp_vals, labels=exp_labels)\n",
    "plt.show()"
   ]
  },
  {
   "cell_type": "code",
   "execution_count": null,
   "id": "e37c4f39",
   "metadata": {},
   "outputs": [],
   "source": [
    "plt.axis('equal')\n",
    "plt.pie(exp_vals, labels=exp_labels)\n",
    "plt.show()"
   ]
  },
  {
   "cell_type": "code",
   "execution_count": null,
   "id": "8ba31ec7",
   "metadata": {},
   "outputs": [],
   "source": [
    "plt.pie(exp_vals, labels=exp_labels, radius=1.5, autopct='%0.2f%%', shadow=True, explode=[0,0,0,0.1,0.2])\n",
    "plt.show()"
   ]
  },
  {
   "cell_type": "code",
   "execution_count": null,
   "id": "ee3f7517",
   "metadata": {},
   "outputs": [],
   "source": [
    "plt.pie(exp_vals, labels=exp_labels, radius=1.5, autopct='%0.2f%%', shadow=True, explode=[0,0,0,0.1,0.2], startangle=180)\n",
    "plt.show()"
   ]
  }
 ],
 "metadata": {
  "kernelspec": {
   "display_name": "Python 3",
   "language": "python",
   "name": "python3"
  },
  "language_info": {
   "codemirror_mode": {
    "name": "ipython",
    "version": 3
   },
   "file_extension": ".py",
   "mimetype": "text/x-python",
   "name": "python",
   "nbconvert_exporter": "python",
   "pygments_lexer": "ipython3",
   "version": "3.8.8"
  }
 },
 "nbformat": 4,
 "nbformat_minor": 5
}
