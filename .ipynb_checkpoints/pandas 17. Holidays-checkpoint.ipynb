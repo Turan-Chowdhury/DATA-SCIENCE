{
 "cells": [
  {
   "cell_type": "code",
   "execution_count": 1,
   "metadata": {},
   "outputs": [
    {
     "data": {
      "text/html": [
       "<div>\n",
       "<style scoped>\n",
       "    .dataframe tbody tr th:only-of-type {\n",
       "        vertical-align: middle;\n",
       "    }\n",
       "\n",
       "    .dataframe tbody tr th {\n",
       "        vertical-align: top;\n",
       "    }\n",
       "\n",
       "    .dataframe thead th {\n",
       "        text-align: right;\n",
       "    }\n",
       "</style>\n",
       "<table border=\"1\" class=\"dataframe\">\n",
       "  <thead>\n",
       "    <tr style=\"text-align: right;\">\n",
       "      <th></th>\n",
       "      <th>Open</th>\n",
       "      <th>High</th>\n",
       "      <th>Low</th>\n",
       "      <th>Close</th>\n",
       "      <th>Volume</th>\n",
       "    </tr>\n",
       "  </thead>\n",
       "  <tbody>\n",
       "    <tr>\n",
       "      <th>0</th>\n",
       "      <td>153.17</td>\n",
       "      <td>153.33</td>\n",
       "      <td>152.22</td>\n",
       "      <td>153.18</td>\n",
       "      <td>16404088</td>\n",
       "    </tr>\n",
       "    <tr>\n",
       "      <th>1</th>\n",
       "      <td>153.58</td>\n",
       "      <td>155.45</td>\n",
       "      <td>152.89</td>\n",
       "      <td>155.45</td>\n",
       "      <td>27770715</td>\n",
       "    </tr>\n",
       "    <tr>\n",
       "      <th>2</th>\n",
       "      <td>154.34</td>\n",
       "      <td>154.45</td>\n",
       "      <td>153.46</td>\n",
       "      <td>153.93</td>\n",
       "      <td>25331662</td>\n",
       "    </tr>\n",
       "    <tr>\n",
       "      <th>3</th>\n",
       "      <td>153.90</td>\n",
       "      <td>155.81</td>\n",
       "      <td>153.78</td>\n",
       "      <td>154.45</td>\n",
       "      <td>26624926</td>\n",
       "    </tr>\n",
       "    <tr>\n",
       "      <th>4</th>\n",
       "      <td>155.02</td>\n",
       "      <td>155.98</td>\n",
       "      <td>154.48</td>\n",
       "      <td>155.37</td>\n",
       "      <td>21069647</td>\n",
       "    </tr>\n",
       "    <tr>\n",
       "      <th>5</th>\n",
       "      <td>155.25</td>\n",
       "      <td>155.54</td>\n",
       "      <td>154.40</td>\n",
       "      <td>154.99</td>\n",
       "      <td>21250798</td>\n",
       "    </tr>\n",
       "    <tr>\n",
       "      <th>6</th>\n",
       "      <td>155.19</td>\n",
       "      <td>155.19</td>\n",
       "      <td>146.02</td>\n",
       "      <td>148.98</td>\n",
       "      <td>64882657</td>\n",
       "    </tr>\n",
       "    <tr>\n",
       "      <th>7</th>\n",
       "      <td>145.74</td>\n",
       "      <td>146.09</td>\n",
       "      <td>142.51</td>\n",
       "      <td>145.42</td>\n",
       "      <td>72307330</td>\n",
       "    </tr>\n",
       "    <tr>\n",
       "      <th>8</th>\n",
       "      <td>147.16</td>\n",
       "      <td>147.45</td>\n",
       "      <td>145.15</td>\n",
       "      <td>146.59</td>\n",
       "      <td>34165445</td>\n",
       "    </tr>\n",
       "    <tr>\n",
       "      <th>9</th>\n",
       "      <td>147.50</td>\n",
       "      <td>147.50</td>\n",
       "      <td>143.84</td>\n",
       "      <td>145.16</td>\n",
       "      <td>31531232</td>\n",
       "    </tr>\n",
       "  </tbody>\n",
       "</table>\n",
       "</div>"
      ],
      "text/plain": [
       "     Open    High     Low   Close    Volume\n",
       "0  153.17  153.33  152.22  153.18  16404088\n",
       "1  153.58  155.45  152.89  155.45  27770715\n",
       "2  154.34  154.45  153.46  153.93  25331662\n",
       "3  153.90  155.81  153.78  154.45  26624926\n",
       "4  155.02  155.98  154.48  155.37  21069647\n",
       "5  155.25  155.54  154.40  154.99  21250798\n",
       "6  155.19  155.19  146.02  148.98  64882657\n",
       "7  145.74  146.09  142.51  145.42  72307330\n",
       "8  147.16  147.45  145.15  146.59  34165445\n",
       "9  147.50  147.50  143.84  145.16  31531232"
      ]
     },
     "execution_count": 1,
     "metadata": {},
     "output_type": "execute_result"
    }
   ],
   "source": [
    "import pandas as pd\n",
    "\n",
    "df = pd.read_csv('data/aapl_no_dates.csv')\n",
    "df.head(10)"
   ]
  },
  {
   "cell_type": "code",
   "execution_count": 2,
   "metadata": {},
   "outputs": [
    {
     "data": {
      "text/plain": [
       "DatetimeIndex(['2016-06-01', '2016-06-02', '2016-06-03', '2016-06-06',\n",
       "               '2016-06-07', '2016-06-08', '2016-06-09', '2016-06-10',\n",
       "               '2016-06-13', '2016-06-14', '2016-06-15', '2016-06-16',\n",
       "               '2016-06-17', '2016-06-20', '2016-06-21', '2016-06-22',\n",
       "               '2016-06-23', '2016-06-24', '2016-06-27', '2016-06-28',\n",
       "               '2016-06-29', '2016-06-30'],\n",
       "              dtype='datetime64[ns]', freq='B')"
      ]
     },
     "execution_count": 2,
     "metadata": {},
     "output_type": "execute_result"
    }
   ],
   "source": [
    "rng = pd.date_range(start='6/1/2016', end='6/30/2016', freq='B')\n",
    "rng"
   ]
  },
  {
   "cell_type": "code",
   "execution_count": 3,
   "metadata": {},
   "outputs": [
    {
     "data": {
      "text/html": [
       "<div>\n",
       "<style scoped>\n",
       "    .dataframe tbody tr th:only-of-type {\n",
       "        vertical-align: middle;\n",
       "    }\n",
       "\n",
       "    .dataframe tbody tr th {\n",
       "        vertical-align: top;\n",
       "    }\n",
       "\n",
       "    .dataframe thead th {\n",
       "        text-align: right;\n",
       "    }\n",
       "</style>\n",
       "<table border=\"1\" class=\"dataframe\">\n",
       "  <thead>\n",
       "    <tr style=\"text-align: right;\">\n",
       "      <th></th>\n",
       "      <th>Open</th>\n",
       "      <th>High</th>\n",
       "      <th>Low</th>\n",
       "      <th>Close</th>\n",
       "      <th>Volume</th>\n",
       "    </tr>\n",
       "  </thead>\n",
       "  <tbody>\n",
       "    <tr>\n",
       "      <th>2016-06-01</th>\n",
       "      <td>153.17</td>\n",
       "      <td>153.33</td>\n",
       "      <td>152.22</td>\n",
       "      <td>153.18</td>\n",
       "      <td>16404088</td>\n",
       "    </tr>\n",
       "    <tr>\n",
       "      <th>2016-06-02</th>\n",
       "      <td>153.58</td>\n",
       "      <td>155.45</td>\n",
       "      <td>152.89</td>\n",
       "      <td>155.45</td>\n",
       "      <td>27770715</td>\n",
       "    </tr>\n",
       "    <tr>\n",
       "      <th>2016-06-03</th>\n",
       "      <td>154.34</td>\n",
       "      <td>154.45</td>\n",
       "      <td>153.46</td>\n",
       "      <td>153.93</td>\n",
       "      <td>25331662</td>\n",
       "    </tr>\n",
       "    <tr>\n",
       "      <th>2016-06-06</th>\n",
       "      <td>153.90</td>\n",
       "      <td>155.81</td>\n",
       "      <td>153.78</td>\n",
       "      <td>154.45</td>\n",
       "      <td>26624926</td>\n",
       "    </tr>\n",
       "    <tr>\n",
       "      <th>2016-06-07</th>\n",
       "      <td>155.02</td>\n",
       "      <td>155.98</td>\n",
       "      <td>154.48</td>\n",
       "      <td>155.37</td>\n",
       "      <td>21069647</td>\n",
       "    </tr>\n",
       "  </tbody>\n",
       "</table>\n",
       "</div>"
      ],
      "text/plain": [
       "              Open    High     Low   Close    Volume\n",
       "2016-06-01  153.17  153.33  152.22  153.18  16404088\n",
       "2016-06-02  153.58  155.45  152.89  155.45  27770715\n",
       "2016-06-03  154.34  154.45  153.46  153.93  25331662\n",
       "2016-06-06  153.90  155.81  153.78  154.45  26624926\n",
       "2016-06-07  155.02  155.98  154.48  155.37  21069647"
      ]
     },
     "execution_count": 3,
     "metadata": {},
     "output_type": "execute_result"
    }
   ],
   "source": [
    "df.set_index(rng, inplace=True)\n",
    "df.head()"
   ]
  },
  {
   "cell_type": "code",
   "execution_count": 8,
   "metadata": {},
   "outputs": [
    {
     "data": {
      "text/plain": [
       "DatetimeIndex(['2016-06-01', '2016-06-02', '2016-06-03', '2016-06-04',\n",
       "               '2016-06-05', '2016-06-06', '2016-06-07', '2016-06-08',\n",
       "               '2016-06-09', '2016-06-10', '2016-06-11', '2016-06-12',\n",
       "               '2016-06-13', '2016-06-14', '2016-06-15', '2016-06-16',\n",
       "               '2016-06-17', '2016-06-18', '2016-06-19', '2016-06-20',\n",
       "               '2016-06-21', '2016-06-22', '2016-06-23', '2016-06-24',\n",
       "               '2016-06-25', '2016-06-26', '2016-06-27', '2016-06-28',\n",
       "               '2016-06-29', '2016-06-30'],\n",
       "              dtype='datetime64[ns]', freq='D')"
      ]
     },
     "execution_count": 8,
     "metadata": {},
     "output_type": "execute_result"
    }
   ],
   "source": [
    "# Finding missing dates from datetimeindex\n",
    "rng2 = pd.date_range(start=\"6/1/2016\",end=\"6/30/2016\",freq='D')\n",
    "daily_index"
   ]
  },
  {
   "cell_type": "code",
   "execution_count": 9,
   "metadata": {},
   "outputs": [
    {
     "data": {
      "text/plain": [
       "DatetimeIndex(['2016-06-04', '2016-06-05', '2016-06-11', '2016-06-12',\n",
       "               '2016-06-18', '2016-06-19', '2016-06-25', '2016-06-26'],\n",
       "              dtype='datetime64[ns]', freq=None)"
      ]
     },
     "execution_count": 9,
     "metadata": {},
     "output_type": "execute_result"
    }
   ],
   "source": [
    "rng2.difference(df.index)"
   ]
  },
  {
   "cell_type": "code",
   "execution_count": null,
   "metadata": {},
   "outputs": [],
   "source": [
    "df.asfreq('D', method='pad')"
   ]
  },
  {
   "cell_type": "code",
   "execution_count": null,
   "metadata": {},
   "outputs": [],
   "source": [
    "df.asfreq('W', method='pad')"
   ]
  },
  {
   "cell_type": "code",
   "execution_count": null,
   "metadata": {},
   "outputs": [],
   "source": [
    "df.asfreq('H', method='pad')"
   ]
  },
  {
   "cell_type": "code",
   "execution_count": null,
   "metadata": {},
   "outputs": [],
   "source": [
    "rng = pd.date_range(start='6/1/2016', periods=15, freq='B')\n",
    "rng"
   ]
  },
  {
   "cell_type": "code",
   "execution_count": 24,
   "metadata": {},
   "outputs": [
    {
     "data": {
      "text/plain": [
       "array([6, 3, 8, 7, 8, 2, 6, 8, 3, 4, 4, 4, 3, 2, 3, 7, 7, 4, 8, 9, 1, 6])"
      ]
     },
     "execution_count": 24,
     "metadata": {},
     "output_type": "execute_result"
    }
   ],
   "source": [
    "import numpy as np\n",
    "rand_num = np.random.randint(1, 10, len(rng))\n",
    "rand_num"
   ]
  },
  {
   "cell_type": "code",
   "execution_count": 25,
   "metadata": {},
   "outputs": [
    {
     "data": {
      "text/plain": [
       "2016-06-01    6\n",
       "2016-06-02    3\n",
       "2016-06-03    8\n",
       "2016-06-06    7\n",
       "2016-06-07    8\n",
       "2016-06-08    2\n",
       "2016-06-09    6\n",
       "2016-06-10    8\n",
       "2016-06-13    3\n",
       "2016-06-14    4\n",
       "2016-06-15    4\n",
       "2016-06-16    4\n",
       "2016-06-17    3\n",
       "2016-06-20    2\n",
       "2016-06-21    3\n",
       "2016-06-22    7\n",
       "2016-06-23    7\n",
       "2016-06-24    4\n",
       "2016-06-27    8\n",
       "2016-06-28    9\n",
       "2016-06-29    1\n",
       "2016-06-30    6\n",
       "Freq: B, dtype: int32"
      ]
     },
     "execution_count": 25,
     "metadata": {},
     "output_type": "execute_result"
    }
   ],
   "source": [
    "ts = pd.Series(rand_num, index=rng)\n",
    "ts"
   ]
  },
  {
   "cell_type": "code",
   "execution_count": null,
   "metadata": {},
   "outputs": [],
   "source": []
  }
 ],
 "metadata": {
  "kernelspec": {
   "display_name": "Python 3",
   "language": "python",
   "name": "python3"
  },
  "language_info": {
   "codemirror_mode": {
    "name": "ipython",
    "version": 3
   },
   "file_extension": ".py",
   "mimetype": "text/x-python",
   "name": "python",
   "nbconvert_exporter": "python",
   "pygments_lexer": "ipython3",
   "version": "3.8.5"
  }
 },
 "nbformat": 4,
 "nbformat_minor": 4
}
