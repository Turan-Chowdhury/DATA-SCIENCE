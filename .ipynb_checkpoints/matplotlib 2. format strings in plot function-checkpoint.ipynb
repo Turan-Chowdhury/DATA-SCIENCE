{
 "cells": [
  {
   "cell_type": "code",
   "execution_count": null,
   "id": "7cd703b5",
   "metadata": {},
   "outputs": [],
   "source": [
    "import matplotlib.pyplot as plt\n",
    "%matplotlib inline"
   ]
  },
  {
   "cell_type": "code",
   "execution_count": null,
   "id": "497d22d5",
   "metadata": {},
   "outputs": [],
   "source": [
    "x=[1,2,3,4,5,6,7]\n",
    "y=[50,51,52,48,47,49,46]"
   ]
  },
  {
   "cell_type": "code",
   "execution_count": null,
   "id": "eb7b4e08",
   "metadata": {},
   "outputs": [],
   "source": [
    "plt.xlabel('Day')\n",
    "plt.ylabel('Temperature')\n",
    "plt.title('Weather')\n",
    "\n",
    "plt.plot(x,y)"
   ]
  },
  {
   "cell_type": "code",
   "execution_count": null,
   "id": "b90b5dc0",
   "metadata": {},
   "outputs": [],
   "source": [
    "plt.plot(x,y, 'g+--')"
   ]
  },
  {
   "cell_type": "code",
   "execution_count": null,
   "id": "946134df",
   "metadata": {},
   "outputs": [],
   "source": [
    "plt.plot(x,y, '-.r*')"
   ]
  },
  {
   "cell_type": "code",
   "execution_count": null,
   "id": "61da1a8c",
   "metadata": {},
   "outputs": [],
   "source": [
    "plt.plot(x,y, 'rD')"
   ]
  },
  {
   "cell_type": "code",
   "execution_count": null,
   "id": "1b6fff1a",
   "metadata": {},
   "outputs": [],
   "source": [
    "plt.plot(x,y, color='y', marker='D', linestyle='')  # Same effect as 'Dy' format string"
   ]
  },
  {
   "cell_type": "code",
   "execution_count": null,
   "id": "2cfbc1c5",
   "metadata": {},
   "outputs": [],
   "source": [
    "plt.plot(x,y, color='#803499', marker='+', markersize=20, linestyle='')"
   ]
  },
  {
   "cell_type": "code",
   "execution_count": null,
   "id": "f5edd2cb",
   "metadata": {},
   "outputs": [],
   "source": [
    "plt.plot(x,y, color='green', alpha=0.3)  # alpha can be specified on a scale 0 to 1 (transparency)"
   ]
  },
  {
   "cell_type": "code",
   "execution_count": null,
   "id": "7027ef07",
   "metadata": {},
   "outputs": [],
   "source": [
    "plt.plot(x,y, color='green', alpha=0.9)"
   ]
  }
 ],
 "metadata": {
  "kernelspec": {
   "display_name": "Python 3",
   "language": "python",
   "name": "python3"
  },
  "language_info": {
   "codemirror_mode": {
    "name": "ipython",
    "version": 3
   },
   "file_extension": ".py",
   "mimetype": "text/x-python",
   "name": "python",
   "nbconvert_exporter": "python",
   "pygments_lexer": "ipython3",
   "version": "3.8.8"
  }
 },
 "nbformat": 4,
 "nbformat_minor": 5
}
