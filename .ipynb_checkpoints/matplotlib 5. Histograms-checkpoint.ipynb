{
 "cells": [
  {
   "cell_type": "code",
   "execution_count": null,
   "id": "7cd703b5",
   "metadata": {},
   "outputs": [],
   "source": [
    "import matplotlib.pyplot as plt\n",
    "import numpy as np\n",
    "%matplotlib inline"
   ]
  },
  {
   "cell_type": "code",
   "execution_count": null,
   "id": "ca6c59db",
   "metadata": {},
   "outputs": [],
   "source": [
    "company=['GOOGL','AMZN','MSFT','FB']\n",
    "revenue=[90,136,89,27]"
   ]
  },
  {
   "cell_type": "code",
   "execution_count": null,
   "id": "b2763a5a",
   "metadata": {},
   "outputs": [],
   "source": [
    "plt.ylabel('Revenue (Bln)')\n",
    "plt.title('US Technology Stocks')\n",
    "\n",
    "plt.bar(company, revenue)"
   ]
  },
  {
   "cell_type": "code",
   "execution_count": null,
   "id": "6805548f",
   "metadata": {},
   "outputs": [],
   "source": [
    "xpos = np.arange(len(company))\n",
    "xpos"
   ]
  },
  {
   "cell_type": "code",
   "execution_count": null,
   "id": "11a7fab2",
   "metadata": {},
   "outputs": [],
   "source": [
    "plt.ylabel('Revenue (Bln)')\n",
    "plt.title('US Technology Stocks')\n",
    "\n",
    "plt.bar(xpos, revenue)"
   ]
  },
  {
   "cell_type": "code",
   "execution_count": null,
   "id": "51c6d8c0",
   "metadata": {
    "scrolled": true
   },
   "outputs": [],
   "source": [
    "plt.ylabel('Revenue (Bln)')\n",
    "plt.title('US Technology Stocks')\n",
    "\n",
    "plt.xticks(xpos, company)\n",
    "\n",
    "plt.bar(xpos, revenue)"
   ]
  },
  {
   "cell_type": "markdown",
   "id": "3a29c5b8",
   "metadata": {},
   "source": [
    "### Multiple Bars showing revenue and profit of major US tech companies"
   ]
  },
  {
   "cell_type": "code",
   "execution_count": null,
   "id": "8aa3a6a4",
   "metadata": {},
   "outputs": [],
   "source": [
    "profit=[40,2,34,12]"
   ]
  },
  {
   "cell_type": "code",
   "execution_count": null,
   "id": "8e9de862",
   "metadata": {},
   "outputs": [],
   "source": [
    "plt.ylabel('Revenue (Bln)')\n",
    "plt.title('US Technology Stocks')\n",
    "\n",
    "plt.xticks(xpos, company)\n",
    "\n",
    "plt.bar(xpos, revenue, label='Revenue')\n",
    "plt.bar(xpos, profit, label='Profit')\n",
    "\n",
    "plt.legend()"
   ]
  },
  {
   "cell_type": "code",
   "execution_count": null,
   "id": "b0006e96",
   "metadata": {},
   "outputs": [],
   "source": [
    "plt.ylabel('Revenue (Bln)')\n",
    "plt.title('US Technology Stocks')\n",
    "\n",
    "plt.xticks(xpos, company)\n",
    "\n",
    "plt.bar(xpos-0.2, revenue, label='Revenue')\n",
    "plt.bar(xpos+0.2, profit, label='Profit')\n",
    "\n",
    "plt.legend()"
   ]
  },
  {
   "cell_type": "code",
   "execution_count": null,
   "id": "26234ed1",
   "metadata": {},
   "outputs": [],
   "source": [
    "plt.ylabel('Revenue (Bln)')\n",
    "plt.title('US Technology Stocks')\n",
    "\n",
    "plt.xticks(xpos, company)\n",
    "\n",
    "plt.bar(xpos-0.2, revenue, width=0.4, label='Revenue')\n",
    "plt.bar(xpos+0.2, profit, width=0.4, label='Profit')\n",
    "\n",
    "plt.legend()"
   ]
  },
  {
   "cell_type": "markdown",
   "id": "3eeba1e2",
   "metadata": {},
   "source": [
    "### Horizontal bar chart using barh function"
   ]
  },
  {
   "cell_type": "code",
   "execution_count": null,
   "id": "fa1b0c65",
   "metadata": {
    "scrolled": true
   },
   "outputs": [],
   "source": [
    "plt.xlabel('Revenue (Bln)')\n",
    "plt.title('US Technology Stocks')\n",
    "\n",
    "plt.yticks(xpos, company)\n",
    "\n",
    "plt.barh(xpos-0.2, revenue, label='Revenue')\n",
    "plt.barh(xpos+0.2, profit, label='Profit')\n",
    "\n",
    "plt.legend()"
   ]
  }
 ],
 "metadata": {
  "kernelspec": {
   "display_name": "Python 3",
   "language": "python",
   "name": "python3"
  },
  "language_info": {
   "codemirror_mode": {
    "name": "ipython",
    "version": 3
   },
   "file_extension": ".py",
   "mimetype": "text/x-python",
   "name": "python",
   "nbconvert_exporter": "python",
   "pygments_lexer": "ipython3",
   "version": "3.8.8"
  }
 },
 "nbformat": 4,
 "nbformat_minor": 5
}
